{
 "cells": [
  {
   "cell_type": "code",
   "execution_count": 2,
   "id": "edf89edb-00cd-4e7f-80c1-dfc40da6b0bf",
   "metadata": {},
   "outputs": [],
   "source": [
    "import pandas as pd\n",
    "import numpy as np\n",
    "from sklearn.model_selection import train_test_split, GridSearchCV\n",
    "from sklearn.ensemble import GradientBoostingRegressor\n",
    "from sklearn.metrics import mean_absolute_error, mean_squared_error, r2_score"
   ]
  },
  {
   "cell_type": "code",
   "execution_count": 3,
   "id": "d4327a9e-f20e-489a-b8ef-e100f3bcaf0b",
   "metadata": {},
   "outputs": [],
   "source": [
    "# Load the dataset\n",
    "df = pd.read_csv('../data/clean/combined_dataset.csv')"
   ]
  },
  {
   "cell_type": "code",
   "execution_count": 4,
   "id": "2441e92c-bea2-4466-a330-02137e634a46",
   "metadata": {},
   "outputs": [],
   "source": [
    "# Define features (X) and target (y)\n",
    "X = df[['MedInc', 'HouseAge', 'AveRooms', 'AveBedrms', 'AveOccup']]\n",
    "y = df['Price']"
   ]
  },
  {
   "cell_type": "code",
   "execution_count": 5,
   "id": "97768e7b-f276-48a5-9de7-ad62e9176004",
   "metadata": {},
   "outputs": [],
   "source": [
    "# Split the dataset into training and testing sets\n",
    "X_train, X_test, y_train, y_test = train_test_split(X, y, test_size=0.2, random_state=42)"
   ]
  },
  {
   "cell_type": "code",
   "execution_count": 6,
   "id": "769134eb-53c7-4e52-9707-81d78d938def",
   "metadata": {},
   "outputs": [],
   "source": [
    "param_grid = {\n",
    "    'n_estimators': [50, 100, 150, 200],\n",
    "    'learning_rate': [0.01, 0.05, 0.1, 0.2],\n",
    "    'max_depth': [3, 5, 7]\n",
    "}"
   ]
  },
  {
   "cell_type": "markdown",
   "id": "de98d24b-30d0-40fd-a700-674217b39390",
   "metadata": {},
   "source": [
    "## Use GridSearchCV for the Gradient Boosting Regressor hyperparameter tuning"
   ]
  },
  {
   "cell_type": "code",
   "execution_count": 8,
   "id": "0ef07a6e-6d40-4407-bd36-fdd8d92f29f4",
   "metadata": {},
   "outputs": [
    {
     "name": "stdout",
     "output_type": "stream",
     "text": [
      "Best Parameters for Gradient Boosting: {'learning_rate': 0.05, 'max_depth': 5, 'n_estimators': 150}\n"
     ]
    }
   ],
   "source": [
    "# Initialize GridSearchCV\n",
    "grid_search = GridSearchCV(GradientBoostingRegressor(random_state=42), param_grid, cv=5, scoring='neg_mean_squared_error', n_jobs=-1)\n",
    "\n",
    "#Fit GridSearchCV to the training data\n",
    "grid_search.fit(X_train, y_train)\n",
    "\n",
    "# Get the best parameters and evaluate the model\n",
    "best_params = grid_search.best_params_\n",
    "print(f\"Best Parameters for Gradient Boosting: {best_params}\")"
   ]
  },
  {
   "cell_type": "markdown",
   "id": "7a57001e-22c2-4b81-a35a-4ceae627d511",
   "metadata": {},
   "source": [
    "## Train and Evaluate the Final Model with Best Parameters"
   ]
  },
  {
   "cell_type": "code",
   "execution_count": 10,
   "id": "48e0859e-cfad-4ad9-8bb4-a503ecc0e91e",
   "metadata": {},
   "outputs": [
    {
     "name": "stdout",
     "output_type": "stream",
     "text": [
      "Final Model Evaluation - MAE: 47545.3139190703, RMSE: 82990.24361340384, R2: 0.6104348665027471\n"
     ]
    }
   ],
   "source": [
    "# Initialize the Gradient Boosting model with the best parameters\n",
    "final_model = GradientBoostingRegressor(\n",
    "    learning_rate=0.05,\n",
    "    max_depth=5,\n",
    "    n_estimators=200,\n",
    "    random_state=42\n",
    ")\n",
    "\n",
    "# Train the model using the entire training set\n",
    "final_model.fit(X_train, y_train)\n",
    "\n",
    "# Make predictions on the test set\n",
    "y_pred_final = final_model.predict(X_test)\n",
    "\n",
    "# Evaluate the final model\n",
    "mae_final = mean_absolute_error(y_test, y_pred_final)\n",
    "rmse_final = np.sqrt(mean_squared_error(y_test, y_pred_final))\n",
    "r2_final = r2_score(y_test, y_pred_final)\n",
    "\n",
    "# Print out the evaluation metrics\n",
    "print(f\"Final Model Evaluation - MAE: {mae_final}, RMSE: {rmse_final}, R2: {r2_final}\")\n"
   ]
  }
 ],
 "metadata": {
  "kernelspec": {
   "display_name": "Python 3 (ipykernel)",
   "language": "python",
   "name": "python3"
  },
  "language_info": {
   "codemirror_mode": {
    "name": "ipython",
    "version": 3
   },
   "file_extension": ".py",
   "mimetype": "text/x-python",
   "name": "python",
   "nbconvert_exporter": "python",
   "pygments_lexer": "ipython3",
   "version": "3.12.2"
  }
 },
 "nbformat": 4,
 "nbformat_minor": 5
}
