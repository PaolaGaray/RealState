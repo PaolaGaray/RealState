{
 "cells": [
  {
   "cell_type": "code",
   "execution_count": 40,
   "id": "df092063-ddc1-4347-836f-d40fb86453f2",
   "metadata": {},
   "outputs": [],
   "source": [
    "import pandas as pd\n",
    "from sklearn.model_selection import train_test_split\n",
    "from sklearn.metrics import mean_absolute_error, mean_squared_error, r2_score\n",
    "import numpy as np"
   ]
  },
  {
   "cell_type": "markdown",
   "id": "6d016aae-94f7-4102-8cbd-a9421682a454",
   "metadata": {},
   "source": [
    "# Data Preparation"
   ]
  },
  {
   "cell_type": "code",
   "execution_count": 26,
   "id": "21d64943-c40e-43f0-afe1-7ef3c005b9c6",
   "metadata": {},
   "outputs": [],
   "source": [
    "df = pd.read_csv('../data/clean/combined_dataset.csv')"
   ]
  },
  {
   "cell_type": "code",
   "execution_count": 28,
   "id": "4b5e85c9-4a0c-476e-ab05-04a34ecb093a",
   "metadata": {},
   "outputs": [],
   "source": [
    "# Define features (X) and target (y)\n",
    "X = df[['MedInc', 'HouseAge', 'AveRooms', 'AveBedrms', 'AveOccup']]\n",
    "y = df['Price']"
   ]
  },
  {
   "cell_type": "code",
   "execution_count": 30,
   "id": "11427515-38bb-4bbb-9239-afa8c1107434",
   "metadata": {},
   "outputs": [
    {
     "name": "stdout",
     "output_type": "stream",
     "text": [
      "X_train shape: (20286, 5), X_test shape: (5072, 5)\n"
     ]
    }
   ],
   "source": [
    "# Split the dataset into training and testing sets (80% train, 20% test)\n",
    "X_train, X_test, y_train, y_test = train_test_split(X, y, test_size=0.2, random_state=42)\n",
    "\n",
    "print(f\"X_train shape: {X_train.shape}, X_test shape: {X_test.shape}\")"
   ]
  },
  {
   "cell_type": "markdown",
   "id": "bc48fd6d-6f62-4dc0-9882-0d8b49299142",
   "metadata": {},
   "source": [
    "# Model Selection & Training"
   ]
  },
  {
   "cell_type": "markdown",
   "id": "e97f0b93-091a-4454-9e3a-2ff3e0759bd3",
   "metadata": {},
   "source": [
    "## Model 1: Linear Regression"
   ]
  },
  {
   "cell_type": "code",
   "execution_count": 42,
   "id": "b129d430-d4fe-4de9-8add-5a9f65b20405",
   "metadata": {},
   "outputs": [
    {
     "name": "stdout",
     "output_type": "stream",
     "text": [
      "Linear Regression - MAE: 70529.27018311562, RMSE: 157857.04495103308, R2: 0.22823632569067343\n"
     ]
    }
   ],
   "source": [
    "from sklearn.linear_model import LinearRegression\n",
    "\n",
    "# Initialize the Linear Regression model\n",
    "lr_model = LinearRegression()\n",
    "\n",
    "# Train the model\n",
    "lr_model.fit(X_train, y_train)\n",
    "\n",
    "# Make predictions\n",
    "y_pred_lr = lr_model.predict(X_test)\n",
    "\n",
    "# Evaluate the model\n",
    "mae_lr = mean_absolute_error(y_test, y_pred_lr)\n",
    "rmse_lr = np.sqrt(mean_squared_error(y_test, y_pred_lr))\n",
    "r2_lr = r2_score(y_test, y_pred_lr)\n",
    "\n",
    "print(f\"Linear Regression - MAE: {mae_lr}, RMSE: {rmse_lr}, R2: {r2_lr}\")"
   ]
  },
  {
   "cell_type": "markdown",
   "id": "090712ab-4a9b-4666-af44-9f216c4c493b",
   "metadata": {},
   "source": [
    "## Model 2: Decision Tree Regressor"
   ]
  },
  {
   "cell_type": "code",
   "execution_count": 44,
   "id": "5cb4fe54-a12b-4a4e-88ed-8f063d25d0e0",
   "metadata": {},
   "outputs": [
    {
     "name": "stdout",
     "output_type": "stream",
     "text": [
      "Decision Tree Regressor - MAE: 65012.696306008576, RMSE: 157778.30190468158, R2: 0.229006083742885\n"
     ]
    }
   ],
   "source": [
    "from sklearn.tree import DecisionTreeRegressor\n",
    "\n",
    "# Initialize the Decision Tree model\n",
    "dt_model = DecisionTreeRegressor(random_state=42)\n",
    "\n",
    "# Train the model\n",
    "dt_model.fit(X_train, y_train)\n",
    "\n",
    "# Make predictions\n",
    "y_pred_dt = dt_model.predict(X_test)\n",
    "\n",
    "# Evaluate the model\n",
    "mae_dt = mean_absolute_error(y_test, y_pred_dt)\n",
    "rmse_dt = np.sqrt(mean_squared_error(y_test, y_pred_dt))\n",
    "r2_dt = r2_score(y_test, y_pred_dt)\n",
    "\n",
    "print(f\"Decision Tree Regressor - MAE: {mae_dt}, RMSE: {rmse_dt}, R2: {r2_dt}\")\n"
   ]
  },
  {
   "cell_type": "markdown",
   "id": "0cf320f4-dc8d-4490-80b4-454249f233bb",
   "metadata": {},
   "source": [
    "## Model 3: Gradient Boosting Regressor"
   ]
  },
  {
   "cell_type": "code",
   "execution_count": 47,
   "id": "f8a27463-3333-4acf-96e3-df94f5c68a36",
   "metadata": {},
   "outputs": [
    {
     "name": "stdout",
     "output_type": "stream",
     "text": [
      "Gradient Boosting Regressor - MAE: 51248.04832897387, RMSE: 146314.68931594642, R2: 0.336971411412039\n"
     ]
    }
   ],
   "source": [
    "from sklearn.ensemble import GradientBoostingRegressor\n",
    "\n",
    "# Initialize the Gradient Boosting model\n",
    "gb_model = GradientBoostingRegressor(random_state=42)\n",
    "\n",
    "# Train the model\n",
    "gb_model.fit(X_train, y_train)\n",
    "\n",
    "# Make predictions\n",
    "y_pred_gb = gb_model.predict(X_test)\n",
    "\n",
    "# Evaluate the model\n",
    "mae_gb = mean_absolute_error(y_test, y_pred_gb)\n",
    "rmse_gb = np.sqrt(mean_squared_error(y_test, y_pred_gb))\n",
    "r2_gb = r2_score(y_test, y_pred_gb)\n",
    "\n",
    "print(f\"Gradient Boosting Regressor - MAE: {mae_gb}, RMSE: {rmse_gb}, R2: {r2_gb}\")\n"
   ]
  },
  {
   "cell_type": "code",
   "execution_count": null,
   "id": "6976c1e9-f14d-4100-8ab4-bf4359056893",
   "metadata": {},
   "outputs": [],
   "source": []
  }
 ],
 "metadata": {
  "kernelspec": {
   "display_name": "Python 3 (ipykernel)",
   "language": "python",
   "name": "python3"
  },
  "language_info": {
   "codemirror_mode": {
    "name": "ipython",
    "version": 3
   },
   "file_extension": ".py",
   "mimetype": "text/x-python",
   "name": "python",
   "nbconvert_exporter": "python",
   "pygments_lexer": "ipython3",
   "version": "3.12.2"
  }
 },
 "nbformat": 4,
 "nbformat_minor": 5
}
